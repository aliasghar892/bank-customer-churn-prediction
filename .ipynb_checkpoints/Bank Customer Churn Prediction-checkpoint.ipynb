{
 "cells": [
  {
   "cell_type": "markdown",
   "id": "73328351",
   "metadata": {},
   "source": [
    "# Bank Customer Churn Prediction"
   ]
  },
  {
   "cell_type": "markdown",
   "id": "5b6aba0d",
   "metadata": {},
   "source": [
    "### loading data"
   ]
  },
  {
   "cell_type": "code",
   "execution_count": 1,
   "id": "2758f8d5",
   "metadata": {},
   "outputs": [],
   "source": [
    "import pandas as pd\n",
    "\n",
    "dataset = pd.read_csv(\"Bank Customer Churn Prediction.csv\")"
   ]
  },
  {
   "cell_type": "code",
   "execution_count": 2,
   "id": "2e49759c",
   "metadata": {},
   "outputs": [
    {
     "name": "stdout",
     "output_type": "stream",
     "text": [
      "number of datapoints : 10000\n",
      "number of features : 12\n"
     ]
    }
   ],
   "source": [
    "print(\"number of datapoints : {}\\nnumber of features : {}\".format(dataset.shape[0],dataset.shape[1]))"
   ]
  },
  {
   "cell_type": "code",
   "execution_count": 3,
   "id": "4a189457",
   "metadata": {},
   "outputs": [
    {
     "data": {
      "text/html": [
       "<div>\n",
       "<style scoped>\n",
       "    .dataframe tbody tr th:only-of-type {\n",
       "        vertical-align: middle;\n",
       "    }\n",
       "\n",
       "    .dataframe tbody tr th {\n",
       "        vertical-align: top;\n",
       "    }\n",
       "\n",
       "    .dataframe thead th {\n",
       "        text-align: right;\n",
       "    }\n",
       "</style>\n",
       "<table border=\"1\" class=\"dataframe\">\n",
       "  <thead>\n",
       "    <tr style=\"text-align: right;\">\n",
       "      <th></th>\n",
       "      <th>customer_id</th>\n",
       "      <th>credit_score</th>\n",
       "      <th>country</th>\n",
       "      <th>gender</th>\n",
       "      <th>age</th>\n",
       "      <th>tenure</th>\n",
       "      <th>balance</th>\n",
       "      <th>products_number</th>\n",
       "      <th>credit_card</th>\n",
       "      <th>active_member</th>\n",
       "      <th>estimated_salary</th>\n",
       "      <th>churn</th>\n",
       "    </tr>\n",
       "  </thead>\n",
       "  <tbody>\n",
       "    <tr>\n",
       "      <th>0</th>\n",
       "      <td>15634602</td>\n",
       "      <td>619</td>\n",
       "      <td>France</td>\n",
       "      <td>Female</td>\n",
       "      <td>42</td>\n",
       "      <td>2</td>\n",
       "      <td>0.00</td>\n",
       "      <td>1</td>\n",
       "      <td>1</td>\n",
       "      <td>1</td>\n",
       "      <td>101348.88</td>\n",
       "      <td>1</td>\n",
       "    </tr>\n",
       "    <tr>\n",
       "      <th>1</th>\n",
       "      <td>15647311</td>\n",
       "      <td>608</td>\n",
       "      <td>Spain</td>\n",
       "      <td>Female</td>\n",
       "      <td>41</td>\n",
       "      <td>1</td>\n",
       "      <td>83807.86</td>\n",
       "      <td>1</td>\n",
       "      <td>0</td>\n",
       "      <td>1</td>\n",
       "      <td>112542.58</td>\n",
       "      <td>0</td>\n",
       "    </tr>\n",
       "    <tr>\n",
       "      <th>2</th>\n",
       "      <td>15619304</td>\n",
       "      <td>502</td>\n",
       "      <td>France</td>\n",
       "      <td>Female</td>\n",
       "      <td>42</td>\n",
       "      <td>8</td>\n",
       "      <td>159660.80</td>\n",
       "      <td>3</td>\n",
       "      <td>1</td>\n",
       "      <td>0</td>\n",
       "      <td>113931.57</td>\n",
       "      <td>1</td>\n",
       "    </tr>\n",
       "    <tr>\n",
       "      <th>3</th>\n",
       "      <td>15701354</td>\n",
       "      <td>699</td>\n",
       "      <td>France</td>\n",
       "      <td>Female</td>\n",
       "      <td>39</td>\n",
       "      <td>1</td>\n",
       "      <td>0.00</td>\n",
       "      <td>2</td>\n",
       "      <td>0</td>\n",
       "      <td>0</td>\n",
       "      <td>93826.63</td>\n",
       "      <td>0</td>\n",
       "    </tr>\n",
       "    <tr>\n",
       "      <th>4</th>\n",
       "      <td>15737888</td>\n",
       "      <td>850</td>\n",
       "      <td>Spain</td>\n",
       "      <td>Female</td>\n",
       "      <td>43</td>\n",
       "      <td>2</td>\n",
       "      <td>125510.82</td>\n",
       "      <td>1</td>\n",
       "      <td>1</td>\n",
       "      <td>1</td>\n",
       "      <td>79084.10</td>\n",
       "      <td>0</td>\n",
       "    </tr>\n",
       "  </tbody>\n",
       "</table>\n",
       "</div>"
      ],
      "text/plain": [
       "   customer_id  credit_score country  gender  age  tenure    balance  \\\n",
       "0     15634602           619  France  Female   42       2       0.00   \n",
       "1     15647311           608   Spain  Female   41       1   83807.86   \n",
       "2     15619304           502  France  Female   42       8  159660.80   \n",
       "3     15701354           699  France  Female   39       1       0.00   \n",
       "4     15737888           850   Spain  Female   43       2  125510.82   \n",
       "\n",
       "   products_number  credit_card  active_member  estimated_salary  churn  \n",
       "0                1            1              1         101348.88      1  \n",
       "1                1            0              1         112542.58      0  \n",
       "2                3            1              0         113931.57      1  \n",
       "3                2            0              0          93826.63      0  \n",
       "4                1            1              1          79084.10      0  "
      ]
     },
     "execution_count": 3,
     "metadata": {},
     "output_type": "execute_result"
    }
   ],
   "source": [
    "dataset.head()"
   ]
  },
  {
   "cell_type": "markdown",
   "id": "adc2526d",
   "metadata": {},
   "source": [
    "### dropping customer_id"
   ]
  },
  {
   "cell_type": "code",
   "execution_count": 4,
   "id": "26a05dcb",
   "metadata": {},
   "outputs": [
    {
     "data": {
      "text/html": [
       "<div>\n",
       "<style scoped>\n",
       "    .dataframe tbody tr th:only-of-type {\n",
       "        vertical-align: middle;\n",
       "    }\n",
       "\n",
       "    .dataframe tbody tr th {\n",
       "        vertical-align: top;\n",
       "    }\n",
       "\n",
       "    .dataframe thead th {\n",
       "        text-align: right;\n",
       "    }\n",
       "</style>\n",
       "<table border=\"1\" class=\"dataframe\">\n",
       "  <thead>\n",
       "    <tr style=\"text-align: right;\">\n",
       "      <th></th>\n",
       "      <th>credit_score</th>\n",
       "      <th>country</th>\n",
       "      <th>gender</th>\n",
       "      <th>age</th>\n",
       "      <th>tenure</th>\n",
       "      <th>balance</th>\n",
       "      <th>products_number</th>\n",
       "      <th>credit_card</th>\n",
       "      <th>active_member</th>\n",
       "      <th>estimated_salary</th>\n",
       "      <th>churn</th>\n",
       "    </tr>\n",
       "  </thead>\n",
       "  <tbody>\n",
       "    <tr>\n",
       "      <th>0</th>\n",
       "      <td>619</td>\n",
       "      <td>France</td>\n",
       "      <td>Female</td>\n",
       "      <td>42</td>\n",
       "      <td>2</td>\n",
       "      <td>0.00</td>\n",
       "      <td>1</td>\n",
       "      <td>1</td>\n",
       "      <td>1</td>\n",
       "      <td>101348.88</td>\n",
       "      <td>1</td>\n",
       "    </tr>\n",
       "    <tr>\n",
       "      <th>1</th>\n",
       "      <td>608</td>\n",
       "      <td>Spain</td>\n",
       "      <td>Female</td>\n",
       "      <td>41</td>\n",
       "      <td>1</td>\n",
       "      <td>83807.86</td>\n",
       "      <td>1</td>\n",
       "      <td>0</td>\n",
       "      <td>1</td>\n",
       "      <td>112542.58</td>\n",
       "      <td>0</td>\n",
       "    </tr>\n",
       "    <tr>\n",
       "      <th>2</th>\n",
       "      <td>502</td>\n",
       "      <td>France</td>\n",
       "      <td>Female</td>\n",
       "      <td>42</td>\n",
       "      <td>8</td>\n",
       "      <td>159660.80</td>\n",
       "      <td>3</td>\n",
       "      <td>1</td>\n",
       "      <td>0</td>\n",
       "      <td>113931.57</td>\n",
       "      <td>1</td>\n",
       "    </tr>\n",
       "    <tr>\n",
       "      <th>3</th>\n",
       "      <td>699</td>\n",
       "      <td>France</td>\n",
       "      <td>Female</td>\n",
       "      <td>39</td>\n",
       "      <td>1</td>\n",
       "      <td>0.00</td>\n",
       "      <td>2</td>\n",
       "      <td>0</td>\n",
       "      <td>0</td>\n",
       "      <td>93826.63</td>\n",
       "      <td>0</td>\n",
       "    </tr>\n",
       "    <tr>\n",
       "      <th>4</th>\n",
       "      <td>850</td>\n",
       "      <td>Spain</td>\n",
       "      <td>Female</td>\n",
       "      <td>43</td>\n",
       "      <td>2</td>\n",
       "      <td>125510.82</td>\n",
       "      <td>1</td>\n",
       "      <td>1</td>\n",
       "      <td>1</td>\n",
       "      <td>79084.10</td>\n",
       "      <td>0</td>\n",
       "    </tr>\n",
       "  </tbody>\n",
       "</table>\n",
       "</div>"
      ],
      "text/plain": [
       "   credit_score country  gender  age  tenure    balance  products_number  \\\n",
       "0           619  France  Female   42       2       0.00                1   \n",
       "1           608   Spain  Female   41       1   83807.86                1   \n",
       "2           502  France  Female   42       8  159660.80                3   \n",
       "3           699  France  Female   39       1       0.00                2   \n",
       "4           850   Spain  Female   43       2  125510.82                1   \n",
       "\n",
       "   credit_card  active_member  estimated_salary  churn  \n",
       "0            1              1         101348.88      1  \n",
       "1            0              1         112542.58      0  \n",
       "2            1              0         113931.57      1  \n",
       "3            0              0          93826.63      0  \n",
       "4            1              1          79084.10      0  "
      ]
     },
     "execution_count": 4,
     "metadata": {},
     "output_type": "execute_result"
    }
   ],
   "source": [
    "dataset = dataset.drop(columns =\"customer_id\")\n",
    "dataset.head()"
   ]
  },
  {
   "cell_type": "markdown",
   "id": "612ad23d",
   "metadata": {},
   "source": [
    "### checking categorical features"
   ]
  },
  {
   "cell_type": "code",
   "execution_count": 5,
   "id": "82587b0a",
   "metadata": {},
   "outputs": [
    {
     "name": "stdout",
     "output_type": "stream",
     "text": [
      "['France' 'Germany' 'Spain']\n",
      "['Female' 'Male']\n"
     ]
    }
   ],
   "source": [
    "import numpy as np\n",
    "print(np.unique(dataset.loc[:,\"country\"].to_numpy()))\n",
    "print(np.unique(dataset.loc[:,\"gender\"].to_numpy()))"
   ]
  },
  {
   "cell_type": "markdown",
   "id": "5ff2a717",
   "metadata": {},
   "source": [
    "### one hot encoding"
   ]
  },
  {
   "cell_type": "code",
   "execution_count": 6,
   "id": "c75a5063",
   "metadata": {},
   "outputs": [
    {
     "data": {
      "text/html": [
       "<div>\n",
       "<style scoped>\n",
       "    .dataframe tbody tr th:only-of-type {\n",
       "        vertical-align: middle;\n",
       "    }\n",
       "\n",
       "    .dataframe tbody tr th {\n",
       "        vertical-align: top;\n",
       "    }\n",
       "\n",
       "    .dataframe thead th {\n",
       "        text-align: right;\n",
       "    }\n",
       "</style>\n",
       "<table border=\"1\" class=\"dataframe\">\n",
       "  <thead>\n",
       "    <tr style=\"text-align: right;\">\n",
       "      <th></th>\n",
       "      <th>credit_score</th>\n",
       "      <th>age</th>\n",
       "      <th>tenure</th>\n",
       "      <th>balance</th>\n",
       "      <th>products_number</th>\n",
       "      <th>credit_card</th>\n",
       "      <th>active_member</th>\n",
       "      <th>estimated_salary</th>\n",
       "      <th>churn</th>\n",
       "      <th>country_France</th>\n",
       "      <th>country_Germany</th>\n",
       "      <th>country_Spain</th>\n",
       "      <th>gender_Female</th>\n",
       "      <th>gender_Male</th>\n",
       "    </tr>\n",
       "  </thead>\n",
       "  <tbody>\n",
       "    <tr>\n",
       "      <th>0</th>\n",
       "      <td>619</td>\n",
       "      <td>42</td>\n",
       "      <td>2</td>\n",
       "      <td>0.00</td>\n",
       "      <td>1</td>\n",
       "      <td>1</td>\n",
       "      <td>1</td>\n",
       "      <td>101348.88</td>\n",
       "      <td>1</td>\n",
       "      <td>1</td>\n",
       "      <td>0</td>\n",
       "      <td>0</td>\n",
       "      <td>1</td>\n",
       "      <td>0</td>\n",
       "    </tr>\n",
       "    <tr>\n",
       "      <th>1</th>\n",
       "      <td>608</td>\n",
       "      <td>41</td>\n",
       "      <td>1</td>\n",
       "      <td>83807.86</td>\n",
       "      <td>1</td>\n",
       "      <td>0</td>\n",
       "      <td>1</td>\n",
       "      <td>112542.58</td>\n",
       "      <td>0</td>\n",
       "      <td>0</td>\n",
       "      <td>0</td>\n",
       "      <td>1</td>\n",
       "      <td>1</td>\n",
       "      <td>0</td>\n",
       "    </tr>\n",
       "    <tr>\n",
       "      <th>2</th>\n",
       "      <td>502</td>\n",
       "      <td>42</td>\n",
       "      <td>8</td>\n",
       "      <td>159660.80</td>\n",
       "      <td>3</td>\n",
       "      <td>1</td>\n",
       "      <td>0</td>\n",
       "      <td>113931.57</td>\n",
       "      <td>1</td>\n",
       "      <td>1</td>\n",
       "      <td>0</td>\n",
       "      <td>0</td>\n",
       "      <td>1</td>\n",
       "      <td>0</td>\n",
       "    </tr>\n",
       "    <tr>\n",
       "      <th>3</th>\n",
       "      <td>699</td>\n",
       "      <td>39</td>\n",
       "      <td>1</td>\n",
       "      <td>0.00</td>\n",
       "      <td>2</td>\n",
       "      <td>0</td>\n",
       "      <td>0</td>\n",
       "      <td>93826.63</td>\n",
       "      <td>0</td>\n",
       "      <td>1</td>\n",
       "      <td>0</td>\n",
       "      <td>0</td>\n",
       "      <td>1</td>\n",
       "      <td>0</td>\n",
       "    </tr>\n",
       "    <tr>\n",
       "      <th>4</th>\n",
       "      <td>850</td>\n",
       "      <td>43</td>\n",
       "      <td>2</td>\n",
       "      <td>125510.82</td>\n",
       "      <td>1</td>\n",
       "      <td>1</td>\n",
       "      <td>1</td>\n",
       "      <td>79084.10</td>\n",
       "      <td>0</td>\n",
       "      <td>0</td>\n",
       "      <td>0</td>\n",
       "      <td>1</td>\n",
       "      <td>1</td>\n",
       "      <td>0</td>\n",
       "    </tr>\n",
       "  </tbody>\n",
       "</table>\n",
       "</div>"
      ],
      "text/plain": [
       "   credit_score  age  tenure    balance  products_number  credit_card  \\\n",
       "0           619   42       2       0.00                1            1   \n",
       "1           608   41       1   83807.86                1            0   \n",
       "2           502   42       8  159660.80                3            1   \n",
       "3           699   39       1       0.00                2            0   \n",
       "4           850   43       2  125510.82                1            1   \n",
       "\n",
       "   active_member  estimated_salary  churn  country_France  country_Germany  \\\n",
       "0              1         101348.88      1               1                0   \n",
       "1              1         112542.58      0               0                0   \n",
       "2              0         113931.57      1               1                0   \n",
       "3              0          93826.63      0               1                0   \n",
       "4              1          79084.10      0               0                0   \n",
       "\n",
       "   country_Spain  gender_Female  gender_Male  \n",
       "0              0              1            0  \n",
       "1              1              1            0  \n",
       "2              0              1            0  \n",
       "3              0              1            0  \n",
       "4              1              1            0  "
      ]
     },
     "execution_count": 6,
     "metadata": {},
     "output_type": "execute_result"
    }
   ],
   "source": [
    "dataset = pd.get_dummies(dataset)\n",
    "dataset.head()"
   ]
  },
  {
   "cell_type": "code",
   "execution_count": 7,
   "id": "33e85edd",
   "metadata": {},
   "outputs": [
    {
     "name": "stdout",
     "output_type": "stream",
     "text": [
      "number of datapoints : 10000\n",
      "number of features : 14\n"
     ]
    }
   ],
   "source": [
    "print(\"number of datapoints : {}\\nnumber of features : {}\".format(dataset.shape[0],dataset.shape[1]))"
   ]
  },
  {
   "cell_type": "markdown",
   "id": "19a9c588",
   "metadata": {},
   "source": [
    "### turning dataframe into suitable array forms"
   ]
  },
  {
   "cell_type": "code",
   "execution_count": 8,
   "id": "21b15771",
   "metadata": {},
   "outputs": [
    {
     "name": "stdout",
     "output_type": "stream",
     "text": [
      "[1 0 1 ... 1 1 0]\n",
      "['credit_score' 'age' 'tenure' 'balance' 'products_number' 'credit_card'\n",
      " 'active_member' 'estimated_salary' 'country_France' 'country_Germany'\n",
      " 'country_Spain' 'gender_Female' 'gender_Male']\n",
      "[[619.  42.   2. ...   0.   1.   0.]\n",
      " [608.  41.   1. ...   1.   1.   0.]\n",
      " [502.  42.   8. ...   0.   1.   0.]\n",
      " ...\n",
      " [709.  36.   7. ...   0.   1.   0.]\n",
      " [772.  42.   3. ...   0.   0.   1.]\n",
      " [792.  28.   4. ...   0.   1.   0.]]\n"
     ]
    }
   ],
   "source": [
    "labels = dataset.loc[:,\"churn\"].to_numpy()\n",
    "dataset = dataset.drop(columns =\"churn\")\n",
    "fetureNames = dataset.columns.to_numpy()\n",
    "data = dataset.to_numpy()\n",
    "\n",
    "print(labels)\n",
    "print(fetureNames)\n",
    "print(data)"
   ]
  },
  {
   "cell_type": "markdown",
   "id": "1f1828b7",
   "metadata": {},
   "source": [
    "### checking label counts"
   ]
  },
  {
   "cell_type": "code",
   "execution_count": 9,
   "id": "4802d0f5",
   "metadata": {},
   "outputs": [
    {
     "name": "stdout",
     "output_type": "stream",
     "text": [
      "[7963 2037]\n"
     ]
    },
    {
     "data": {
      "image/png": "[encoded data removed]",
      "text/plain": [
       "<Figure size 200x200 with 1 Axes>"
      ]
     },
     "metadata": {},
     "output_type": "display_data"
    }
   ],
   "source": [
    "import matplotlib.pyplot as plt\n",
    "\n",
    "print(np.bincount(labels))\n",
    "plt.figure(figsize=(2,2))\n",
    "plt.hist(labels,2,edgecolor = \"black\")\n",
    "plt.show()"
   ]
  },
  {
   "cell_type": "markdown",
   "id": "02c46495",
   "metadata": {},
   "source": [
    "**data is imbalanced**"
   ]
  },
  {
   "cell_type": "markdown",
   "id": "23b3a291",
   "metadata": {},
   "source": [
    "### trying a simple model ( logistic regression )"
   ]
  },
  {
   "cell_type": "code",
   "execution_count": 10,
   "id": "a1f6ad0f",
   "metadata": {},
   "outputs": [
    {
     "name": "stdout",
     "output_type": "stream",
     "text": [
      "pure logisticRegression test score : 78.76\n",
      "pure logisticRegression train score : 79.09\n"
     ]
    }
   ],
   "source": [
    "from sklearn.linear_model import LogisticRegression\n",
    "from sklearn.model_selection import train_test_split\n",
    "\n",
    "X_train, X_test, Y_train, Y_test = train_test_split(data,labels,random_state=0)\n",
    "\n",
    "logreg = LogisticRegression()\n",
    "logreg.fit(X_train,Y_train)\n",
    "logreg_pred = logreg.predict(X_test)\n",
    "testScore = logreg.score(X_test,Y_test)\n",
    "trainScore = logreg.score(X_train,Y_train)\n",
    "print(\"pure logisticRegression test score : {:.2f}\".format(testScore*100))\n",
    "print(\"pure logisticRegression train score : {:.2f}\".format(trainScore*100))"
   ]
  },
  {
   "cell_type": "markdown",
   "id": "ed027008",
   "metadata": {},
   "source": [
    "**clearly underfitting (same test and train score)**<br>\n",
    "i will tune hyperparameters later "
   ]
  },
  {
   "cell_type": "markdown",
   "id": "6393878c",
   "metadata": {},
   "source": [
    "### trying a more complicated model (random forest)"
   ]
  },
  {
   "cell_type": "code",
   "execution_count": 11,
   "id": "52cfc845",
   "metadata": {},
   "outputs": [
    {
     "name": "stdout",
     "output_type": "stream",
     "text": [
      "pure random forest score : 87.28\n"
     ]
    }
   ],
   "source": [
    "from sklearn.ensemble import RandomForestClassifier\n",
    "\n",
    "rForest = RandomForestClassifier()\n",
    "rForest.fit(X_train,Y_train)\n",
    "rForest_pred = rForest.predict(X_test)\n",
    "score = rForest.score(X_test,Y_test)\n",
    "print(\"pure random forest score : {:.2f}\".format(score*100))"
   ]
  },
  {
   "cell_type": "markdown",
   "id": "05eadf9f",
   "metadata": {},
   "source": [
    "### checking confusion matrix \n",
    "data is imbalanced so it seems that we are being optimistic in log reg"
   ]
  },
  {
   "cell_type": "code",
   "execution_count": 12,
   "id": "e4304eb0",
   "metadata": {
    "scrolled": true
   },
   "outputs": [
    {
     "name": "stdout",
     "output_type": "stream",
     "text": [
      "[[1940   51]\n",
      " [ 480   29]]\n",
      "\n",
      "f1 score of the log reg : 9.85\n"
     ]
    }
   ],
   "source": [
    "from sklearn.metrics import confusion_matrix,f1_score\n",
    "\n",
    "matrix = confusion_matrix(Y_test,logreg_pred)\n",
    "print(matrix)\n",
    "print(\"\\nf1 score of the log reg : {:.2f}\".format(f1_score(Y_test,logreg_pred)*100))"
   ]
  },
  {
   "cell_type": "markdown",
   "id": "d36cf1e6",
   "metadata": {},
   "source": [
    "too many FP and FN , very poor f1 score"
   ]
  },
  {
   "cell_type": "markdown",
   "id": "ea55bc0b",
   "metadata": {},
   "source": [
    "### more analysing about being imbalanced"
   ]
  },
  {
   "cell_type": "code",
   "execution_count": 13,
   "id": "1a044114",
   "metadata": {},
   "outputs": [
    {
     "name": "stdout",
     "output_type": "stream",
     "text": [
      "              precision    recall  f1-score   support\n",
      "\n",
      "   not churn       0.80      0.97      0.88      1991\n",
      "       churn       0.36      0.06      0.10       509\n",
      "\n",
      "    accuracy                           0.79      2500\n",
      "   macro avg       0.58      0.52      0.49      2500\n",
      "weighted avg       0.71      0.79      0.72      2500\n",
      "\n"
     ]
    }
   ],
   "source": [
    "from sklearn.metrics import classification_report\n",
    "\n",
    "print(classification_report(Y_test,logreg_pred,target_names=[\"not churn\",\"churn\"]))\n"
   ]
  },
  {
   "cell_type": "markdown",
   "id": "6fa13b6a",
   "metadata": {},
   "source": [
    "predicting false not churn will have **very high impact** (some one hase been churned and we did not found out !)<br>\n",
    "predicting false churn has lower impact. ( someone has not churned but we falsly predicted he that he does , it does not have very high business impact , just some adittional researches about customer will be done )<br>\n",
    "so reducing false negatives is important for us , it means that **recall** is more important for us<br>\n",
    "<br>\n",
    "RECALL = TP/(TP+FN)\n",
    "<br><br>\n",
    "so i try to increase recall, recall is 6 percent as above report"
   ]
  },
  {
   "cell_type": "markdown",
   "id": "1a862044",
   "metadata": {},
   "source": [
    "### precission recall curve"
   ]
  },
  {
   "cell_type": "code",
   "execution_count": 14,
   "id": "7321c7e7",
   "metadata": {
    "scrolled": false
   },
   "outputs": [
    {
     "name": "stdout",
     "output_type": "stream",
     "text": [
      "log red closest to mid threshold : -0.002867356919858705\n",
      "random forest closest to mid threshold : 0.5\n"
     ]
    },
    {
     "data": {
      "image/png": "[encoded data removed]",
      "text/plain": [
       "<Figure size 640x480 with 1 Axes>"
      ]
     },
     "metadata": {},
     "output_type": "display_data"
    },
    {
     "name": "stdout",
     "output_type": "stream",
     "text": [
      "in log reg for mid threshold fpr is 2.56 and recall is 5.89\n",
      "in random forest for mid threshold fpr is 3.92 and recall is 52.46\n"
     ]
    }
   ],
   "source": [
    "from sklearn.metrics import roc_curve\n",
    "\n",
    "log_decesionFunc = logreg.decision_function(X_test)\n",
    "forest_predictProba = rForest.predict_proba(X_test)[:,1]\n",
    "\n",
    "fpr_log, recall_log, threshold_log = roc_curve(Y_test,log_decesionFunc)\n",
    "fpr_rf, recall_rf, threshold_rf = roc_curve(Y_test,forest_predictProba)\n",
    "\n",
    "midThres_log = np.argmin(np.abs(threshold_log)) # abs is for ignoring negative values / zero is middle in decision func\n",
    "midThres_rf = np.argmin(np.abs(threshold_rf-0.5)) # abs is for ignoring negative values / 0.5 is middle in pred proba\n",
    "\n",
    "print(\"log red closest to mid threshold :\",threshold_log[midThres_log])\n",
    "print(\"random forest closest to mid threshold :\",threshold_rf[midThres_rf])\n",
    "\n",
    "plt.plot(fpr_log,recall_log,label = \"log reg\")\n",
    "plt.plot(fpr_log[midThres_log],recall_log[midThres_log],marker=\"X\",markersize=10,label = \"log midThres\")\n",
    "plt.plot(fpr_rf,recall_rf,label = \"random forest\")\n",
    "plt.plot(fpr_rf[midThres_rf],recall_rf[midThres_rf],marker=\"X\",markersize=10,label = \"rf midThres\")\n",
    "\n",
    "plt.title(\"ROC curve for random forest and logestic regression\")\n",
    "plt.xlabel(\"FPR\")\n",
    "plt.ylabel(\"Recall\")\n",
    "plt.legend()\n",
    "plt.show()\n",
    "print(\"in log reg for mid threshold fpr is {:.2f} and recall is {:.2f}\"\n",
    "      .format(fpr_log[midThres_log]*100,recall_log[midThres_log]*100))\n",
    "print(\"in random forest for mid threshold fpr is {:.2f} and recall is {:.2f}\"\n",
    "      .format(fpr_rf[midThres_rf]*100,recall_rf[midThres_rf]*100))"
   ]
  },
  {
   "cell_type": "markdown",
   "id": "d3933c13",
   "metadata": {},
   "source": [
    "log reg is acting very bad , rand forest is acting better and is also not very slow like svm so i igonre log reg\n",
    "<br>maybe with some feature engineering it act better but time complexity does not differ"
   ]
  },
  {
   "cell_type": "markdown",
   "id": "8da14fc6",
   "metadata": {},
   "source": [
    "checking auc too :"
   ]
  },
  {
   "cell_type": "code",
   "execution_count": 15,
   "id": "ade269af",
   "metadata": {},
   "outputs": [
    {
     "name": "stdout",
     "output_type": "stream",
     "text": [
      "auc score for log reg : 66.56683957968028\n",
      "auc score for rf : 86.42807170578014\n"
     ]
    }
   ],
   "source": [
    "from sklearn.metrics import roc_auc_score\n",
    "\n",
    "print(\"auc score for log reg :\",roc_auc_score(Y_test,log_decesionFunc)*100)\n",
    "print(\"auc score for rf :\",roc_auc_score(Y_test,forest_predictProba)*100)"
   ]
  },
  {
   "cell_type": "markdown",
   "id": "21571b68",
   "metadata": {},
   "source": [
    "now that we understood tree based models will perform well let's check auc for gradient boosting classifier too"
   ]
  },
  {
   "cell_type": "code",
   "execution_count": 16,
   "id": "9edd3c6e",
   "metadata": {},
   "outputs": [
    {
     "name": "stdout",
     "output_type": "stream",
     "text": [
      "auc score for gbc : 87.50763504532675\n"
     ]
    }
   ],
   "source": [
    "from sklearn.ensemble import GradientBoostingClassifier\n",
    "\n",
    "gbc = GradientBoostingClassifier().fit(X_train,Y_train)\n",
    "gbc_decisionFunc = gbc.decision_function(X_test)\n",
    "print(\"auc score for gbc :\",roc_auc_score(Y_test,gbc_decisionFunc)*100)"
   ]
  },
  {
   "cell_type": "markdown",
   "id": "3ecba387",
   "metadata": {},
   "source": [
    "thats not so diffrent from random forest , i will choose random forest as it can be tunned better"
   ]
  },
  {
   "cell_type": "markdown",
   "id": "544ec597",
   "metadata": {},
   "source": [
    "from roc curve we understand that with a **lower** threshold we will get a better recall and a balanced FPR<br>\n",
    "so i extend random forest estimator so it can predict with respect to threshold<br>\n",
    "then i will use crossValidation and grid search to find best "
   ]
  },
  {
   "cell_type": "markdown",
   "id": "6e9b8f2a",
   "metadata": {},
   "source": [
    "### customized random forest"
   ]
  },
  {
   "cell_type": "code",
   "execution_count": 17,
   "id": "e3ae325d",
   "metadata": {},
   "outputs": [],
   "source": [
    "from sklearn.base import BaseEstimator,ClassifierMixin\n",
    "from sklearn.metrics import accuracy_score\n",
    "\n",
    "class CRF(BaseEstimator,ClassifierMixin):\n",
    "    \n",
    "    def __init__(self,thres=0.5): # adding threshold as a hyper parameter\n",
    "        self.threshold = thres\n",
    "        self.subEstimator = RandomForestClassifier()\n",
    "\n",
    "    def fit(self,X,y):\n",
    "        return self.subEstimator.fit(X,y)\n",
    "        \n",
    "    def predict(self,X): # with respect to pred proba\n",
    "        pred_proba = self.subEstimator.predict_proba(X)[:,1]\n",
    "        thresPred = pred_proba >= self.threshold \n",
    "        thresPred = thresPred.astype(int)\n",
    "        return thresPred\n",
    "\n",
    "    def score(self,X,y):\n",
    "        return accuracy_score(self.predict(X),y) \n",
    "#         return f1_score(y,self.predict(X))"
   ]
  },
  {
   "cell_type": "code",
   "execution_count": 27,
   "id": "bbb33efe",
   "metadata": {},
   "outputs": [
    {
     "name": "stdout",
     "output_type": "stream",
     "text": [
      "score for default random forest : 87.28\n",
      "score for custom random forest with thres 0.6 : 86.32\n"
     ]
    }
   ],
   "source": [
    "# testing\n",
    "crf = CRF(thres = 0.6)\n",
    "crf.fit(X_train,Y_train)\n",
    "# results should be near each other\n",
    "print(\"score for default random forest :\",rForest.score(X_test,Y_test)*100)\n",
    "print(\"score for custom random forest with thres 0.6 :\",crf.score(X_test,Y_test)*100)\n",
    "print(\"score for default random forest :\",rForest.score(X_test,Y_test)*100)\n",
    "print(\"score for custom random forest with thres 0.6 :\",crf.score(X_test,Y_test)*100)\n"
   ]
  },
  {
   "cell_type": "markdown",
   "id": "a783f5d4",
   "metadata": {},
   "source": [
    "## visualizing the ROC curve again for finding a good threshold range \n",
    "less than 0.25 is not very good means that we are accepting low probs to churn\n",
    "it will decrease score , we will have a trade off between these two later (recall and f1score)"
   ]
  },
  {
   "cell_type": "code",
   "execution_count": 22,
   "id": "5e1131c8",
   "metadata": {},
   "outputs": [
    {
     "data": {
      "image/png": "[encoded data removed]",
      "text/plain": [
       "<Figure size 640x480 with 1 Axes>"
      ]
     },
     "metadata": {},
     "output_type": "display_data"
    }
   ],
   "source": [
    "plt.plot(fpr_rf,recall_rf,label = \"random forest\")\n",
    "\n",
    "for threshold in [0.5,0.4,0.3,0.25]:\n",
    "    Thres = np.argmin(np.abs(threshold_rf-threshold))\n",
    "    plt.plot(fpr_rf[Thres],recall_rf[Thres],marker=\"X\",markersize=10,label = \"threshold \"+str(threshold))\n",
    "\n",
    "plt.title(\"ROC curve for random forest and logestic regression\")\n",
    "plt.xlabel(\"FPR\")\n",
    "plt.ylabel(\"Recall\")\n",
    "plt.legend()\n",
    "plt.show()"
   ]
  },
  {
   "cell_type": "markdown",
   "id": "3f428159",
   "metadata": {},
   "source": [
    "## finding best threshold"
   ]
  },
  {
   "cell_type": "code",
   "execution_count": 20,
   "id": "5146a4c7",
   "metadata": {},
   "outputs": [],
   "source": [
    "# from sklearn.model_selection import GridSearchCV\n",
    "# grid_param = {'thres':[0.4,0.3,0.2,0.15,0.1]}\n",
    "# grid_search = GridSearchCV(CRF(),grid_param,cv=2)\n",
    "# grid_search.fit(X_train,Y_train)\n",
    "# print(\"best params\",grid_search.best_params_)\n",
    "# print(\"best f1 score\",grid_search.best_score_)"
   ]
  },
  {
   "cell_type": "code",
   "execution_count": 21,
   "id": "22f17dec",
   "metadata": {},
   "outputs": [],
   "source": [
    "# todo : replace CRF score with recall"
   ]
  }
 ],
 "metadata": {
  "kernelspec": {
   "display_name": "Python 3 (ipykernel)",
   "language": "python",
   "name": "python3"
  },
  "language_info": {
   "codemirror_mode": {
    "name": "ipython",
    "version": 3
   },
   "file_extension": ".py",
   "mimetype": "text/x-python",
   "name": "python",
   "nbconvert_exporter": "python",
   "pygments_lexer": "ipython3",
   "version": "3.9.16"
  }
 },
 "nbformat": 4,
 "nbformat_minor": 5
}
