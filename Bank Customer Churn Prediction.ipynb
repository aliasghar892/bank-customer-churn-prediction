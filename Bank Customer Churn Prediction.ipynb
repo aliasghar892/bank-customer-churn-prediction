{
 "cells": [
  {
   "attachments": {},
   "cell_type": "markdown",
   "id": "73328351",
   "metadata": {},
   "source": [
    "# Bank Customer Churn Prediction"
   ]
  },
  {
   "attachments": {},
   "cell_type": "markdown",
   "id": "5b6aba0d",
   "metadata": {},
   "source": [
    "### loading data"
   ]
  },
  {
   "cell_type": "code",
   "execution_count": 1,
   "id": "2758f8d5",
   "metadata": {},
   "outputs": [],
   "source": [
    "import pandas as pd\n",
    "\n",
    "dataset = pd.read_csv(\"Bank Customer Churn Prediction.csv\")"
   ]
  },
  {
   "cell_type": "code",
   "execution_count": 2,
   "id": "2e49759c",
   "metadata": {},
   "outputs": [
    {
     "name": "stdout",
     "output_type": "stream",
     "text": [
      "number of datapoints : 10000\n",
      "number of features : 12\n"
     ]
    }
   ],
   "source": [
    "print(\"number of datapoints : {}\\nnumber of features : {}\".format(dataset.shape[0],dataset.shape[1]))"
   ]
  },
  {
   "cell_type": "code",
   "execution_count": 3,
   "id": "4a189457",
   "metadata": {},
   "outputs": [
    {
     "data": {
      "text/html": [
       "<div>\n",
       "<style scoped>\n",
       "    .dataframe tbody tr th:only-of-type {\n",
       "        vertical-align: middle;\n",
       "    }\n",
       "\n",
       "    .dataframe tbody tr th {\n",
       "        vertical-align: top;\n",
       "    }\n",
       "\n",
       "    .dataframe thead th {\n",
       "        text-align: right;\n",
       "    }\n",
       "</style>\n",
       "<table border=\"1\" class=\"dataframe\">\n",
       "  <thead>\n",
       "    <tr style=\"text-align: right;\">\n",
       "      <th></th>\n",
       "      <th>customer_id</th>\n",
       "      <th>credit_score</th>\n",
       "      <th>country</th>\n",
       "      <th>gender</th>\n",
       "      <th>age</th>\n",
       "      <th>tenure</th>\n",
       "      <th>balance</th>\n",
       "      <th>products_number</th>\n",
       "      <th>credit_card</th>\n",
       "      <th>active_member</th>\n",
       "      <th>estimated_salary</th>\n",
       "      <th>churn</th>\n",
       "    </tr>\n",
       "  </thead>\n",
       "  <tbody>\n",
       "    <tr>\n",
       "      <th>0</th>\n",
       "      <td>15634602</td>\n",
       "      <td>619</td>\n",
       "      <td>France</td>\n",
       "      <td>Female</td>\n",
       "      <td>42</td>\n",
       "      <td>2</td>\n",
       "      <td>0.00</td>\n",
       "      <td>1</td>\n",
       "      <td>1</td>\n",
       "      <td>1</td>\n",
       "      <td>101348.88</td>\n",
       "      <td>1</td>\n",
       "    </tr>\n",
       "    <tr>\n",
       "      <th>1</th>\n",
       "      <td>15647311</td>\n",
       "      <td>608</td>\n",
       "      <td>Spain</td>\n",
       "      <td>Female</td>\n",
       "      <td>41</td>\n",
       "      <td>1</td>\n",
       "      <td>83807.86</td>\n",
       "      <td>1</td>\n",
       "      <td>0</td>\n",
       "      <td>1</td>\n",
       "      <td>112542.58</td>\n",
       "      <td>0</td>\n",
       "    </tr>\n",
       "    <tr>\n",
       "      <th>2</th>\n",
       "      <td>15619304</td>\n",
       "      <td>502</td>\n",
       "      <td>France</td>\n",
       "      <td>Female</td>\n",
       "      <td>42</td>\n",
       "      <td>8</td>\n",
       "      <td>159660.80</td>\n",
       "      <td>3</td>\n",
       "      <td>1</td>\n",
       "      <td>0</td>\n",
       "      <td>113931.57</td>\n",
       "      <td>1</td>\n",
       "    </tr>\n",
       "    <tr>\n",
       "      <th>3</th>\n",
       "      <td>15701354</td>\n",
       "      <td>699</td>\n",
       "      <td>France</td>\n",
       "      <td>Female</td>\n",
       "      <td>39</td>\n",
       "      <td>1</td>\n",
       "      <td>0.00</td>\n",
       "      <td>2</td>\n",
       "      <td>0</td>\n",
       "      <td>0</td>\n",
       "      <td>93826.63</td>\n",
       "      <td>0</td>\n",
       "    </tr>\n",
       "    <tr>\n",
       "      <th>4</th>\n",
       "      <td>15737888</td>\n",
       "      <td>850</td>\n",
       "      <td>Spain</td>\n",
       "      <td>Female</td>\n",
       "      <td>43</td>\n",
       "      <td>2</td>\n",
       "      <td>125510.82</td>\n",
       "      <td>1</td>\n",
       "      <td>1</td>\n",
       "      <td>1</td>\n",
       "      <td>79084.10</td>\n",
       "      <td>0</td>\n",
       "    </tr>\n",
       "  </tbody>\n",
       "</table>\n",
       "</div>"
      ],
      "text/plain": [
       "   customer_id  credit_score country  gender  age  tenure    balance  \\\n",
       "0     15634602           619  France  Female   42       2       0.00   \n",
       "1     15647311           608   Spain  Female   41       1   83807.86   \n",
       "2     15619304           502  France  Female   42       8  159660.80   \n",
       "3     15701354           699  France  Female   39       1       0.00   \n",
       "4     15737888           850   Spain  Female   43       2  125510.82   \n",
       "\n",
       "   products_number  credit_card  active_member  estimated_salary  churn  \n",
       "0                1            1              1         101348.88      1  \n",
       "1                1            0              1         112542.58      0  \n",
       "2                3            1              0         113931.57      1  \n",
       "3                2            0              0          93826.63      0  \n",
       "4                1            1              1          79084.10      0  "
      ]
     },
     "execution_count": 3,
     "metadata": {},
     "output_type": "execute_result"
    }
   ],
   "source": [
    "dataset.head()"
   ]
  },
  {
   "attachments": {},
   "cell_type": "markdown",
   "id": "adc2526d",
   "metadata": {},
   "source": [
    "### dropping customer_id"
   ]
  },
  {
   "cell_type": "code",
   "execution_count": 4,
   "id": "26a05dcb",
   "metadata": {},
   "outputs": [
    {
     "data": {
      "text/html": [
       "<div>\n",
       "<style scoped>\n",
       "    .dataframe tbody tr th:only-of-type {\n",
       "        vertical-align: middle;\n",
       "    }\n",
       "\n",
       "    .dataframe tbody tr th {\n",
       "        vertical-align: top;\n",
       "    }\n",
       "\n",
       "    .dataframe thead th {\n",
       "        text-align: right;\n",
       "    }\n",
       "</style>\n",
       "<table border=\"1\" class=\"dataframe\">\n",
       "  <thead>\n",
       "    <tr style=\"text-align: right;\">\n",
       "      <th></th>\n",
       "      <th>credit_score</th>\n",
       "      <th>country</th>\n",
       "      <th>gender</th>\n",
       "      <th>age</th>\n",
       "      <th>tenure</th>\n",
       "      <th>balance</th>\n",
       "      <th>products_number</th>\n",
       "      <th>credit_card</th>\n",
       "      <th>active_member</th>\n",
       "      <th>estimated_salary</th>\n",
       "      <th>churn</th>\n",
       "    </tr>\n",
       "  </thead>\n",
       "  <tbody>\n",
       "    <tr>\n",
       "      <th>0</th>\n",
       "      <td>619</td>\n",
       "      <td>France</td>\n",
       "      <td>Female</td>\n",
       "      <td>42</td>\n",
       "      <td>2</td>\n",
       "      <td>0.00</td>\n",
       "      <td>1</td>\n",
       "      <td>1</td>\n",
       "      <td>1</td>\n",
       "      <td>101348.88</td>\n",
       "      <td>1</td>\n",
       "    </tr>\n",
       "    <tr>\n",
       "      <th>1</th>\n",
       "      <td>608</td>\n",
       "      <td>Spain</td>\n",
       "      <td>Female</td>\n",
       "      <td>41</td>\n",
       "      <td>1</td>\n",
       "      <td>83807.86</td>\n",
       "      <td>1</td>\n",
       "      <td>0</td>\n",
       "      <td>1</td>\n",
       "      <td>112542.58</td>\n",
       "      <td>0</td>\n",
       "    </tr>\n",
       "    <tr>\n",
       "      <th>2</th>\n",
       "      <td>502</td>\n",
       "      <td>France</td>\n",
       "      <td>Female</td>\n",
       "      <td>42</td>\n",
       "      <td>8</td>\n",
       "      <td>159660.80</td>\n",
       "      <td>3</td>\n",
       "      <td>1</td>\n",
       "      <td>0</td>\n",
       "      <td>113931.57</td>\n",
       "      <td>1</td>\n",
       "    </tr>\n",
       "    <tr>\n",
       "      <th>3</th>\n",
       "      <td>699</td>\n",
       "      <td>France</td>\n",
       "      <td>Female</td>\n",
       "      <td>39</td>\n",
       "      <td>1</td>\n",
       "      <td>0.00</td>\n",
       "      <td>2</td>\n",
       "      <td>0</td>\n",
       "      <td>0</td>\n",
       "      <td>93826.63</td>\n",
       "      <td>0</td>\n",
       "    </tr>\n",
       "    <tr>\n",
       "      <th>4</th>\n",
       "      <td>850</td>\n",
       "      <td>Spain</td>\n",
       "      <td>Female</td>\n",
       "      <td>43</td>\n",
       "      <td>2</td>\n",
       "      <td>125510.82</td>\n",
       "      <td>1</td>\n",
       "      <td>1</td>\n",
       "      <td>1</td>\n",
       "      <td>79084.10</td>\n",
       "      <td>0</td>\n",
       "    </tr>\n",
       "  </tbody>\n",
       "</table>\n",
       "</div>"
      ],
      "text/plain": [
       "   credit_score country  gender  age  tenure    balance  products_number  \\\n",
       "0           619  France  Female   42       2       0.00                1   \n",
       "1           608   Spain  Female   41       1   83807.86                1   \n",
       "2           502  France  Female   42       8  159660.80                3   \n",
       "3           699  France  Female   39       1       0.00                2   \n",
       "4           850   Spain  Female   43       2  125510.82                1   \n",
       "\n",
       "   credit_card  active_member  estimated_salary  churn  \n",
       "0            1              1         101348.88      1  \n",
       "1            0              1         112542.58      0  \n",
       "2            1              0         113931.57      1  \n",
       "3            0              0          93826.63      0  \n",
       "4            1              1          79084.10      0  "
      ]
     },
     "execution_count": 4,
     "metadata": {},
     "output_type": "execute_result"
    }
   ],
   "source": [
    "dataset = dataset.drop(columns =\"customer_id\")\n",
    "dataset.head()"
   ]
  },
  {
   "attachments": {},
   "cell_type": "markdown",
   "id": "612ad23d",
   "metadata": {},
   "source": [
    "### checking categorical features"
   ]
  },
  {
   "cell_type": "code",
   "execution_count": 5,
   "id": "82587b0a",
   "metadata": {},
   "outputs": [
    {
     "name": "stdout",
     "output_type": "stream",
     "text": [
      "['France' 'Germany' 'Spain']\n",
      "['Female' 'Male']\n"
     ]
    }
   ],
   "source": [
    "import numpy as np\n",
    "print(np.unique(dataset.loc[:,\"country\"].to_numpy()))\n",
    "print(np.unique(dataset.loc[:,\"gender\"].to_numpy()))"
   ]
  },
  {
   "attachments": {},
   "cell_type": "markdown",
   "id": "5ff2a717",
   "metadata": {},
   "source": [
    "### one hot encoding"
   ]
  },
  {
   "cell_type": "code",
   "execution_count": 6,
   "id": "c75a5063",
   "metadata": {},
   "outputs": [
    {
     "data": {
      "text/html": [
       "<div>\n",
       "<style scoped>\n",
       "    .dataframe tbody tr th:only-of-type {\n",
       "        vertical-align: middle;\n",
       "    }\n",
       "\n",
       "    .dataframe tbody tr th {\n",
       "        vertical-align: top;\n",
       "    }\n",
       "\n",
       "    .dataframe thead th {\n",
       "        text-align: right;\n",
       "    }\n",
       "</style>\n",
       "<table border=\"1\" class=\"dataframe\">\n",
       "  <thead>\n",
       "    <tr style=\"text-align: right;\">\n",
       "      <th></th>\n",
       "      <th>credit_score</th>\n",
       "      <th>age</th>\n",
       "      <th>tenure</th>\n",
       "      <th>balance</th>\n",
       "      <th>products_number</th>\n",
       "      <th>credit_card</th>\n",
       "      <th>active_member</th>\n",
       "      <th>estimated_salary</th>\n",
       "      <th>churn</th>\n",
       "      <th>country_France</th>\n",
       "      <th>country_Germany</th>\n",
       "      <th>country_Spain</th>\n",
       "      <th>gender_Female</th>\n",
       "      <th>gender_Male</th>\n",
       "    </tr>\n",
       "  </thead>\n",
       "  <tbody>\n",
       "    <tr>\n",
       "      <th>0</th>\n",
       "      <td>619</td>\n",
       "      <td>42</td>\n",
       "      <td>2</td>\n",
       "      <td>0.00</td>\n",
       "      <td>1</td>\n",
       "      <td>1</td>\n",
       "      <td>1</td>\n",
       "      <td>101348.88</td>\n",
       "      <td>1</td>\n",
       "      <td>1</td>\n",
       "      <td>0</td>\n",
       "      <td>0</td>\n",
       "      <td>1</td>\n",
       "      <td>0</td>\n",
       "    </tr>\n",
       "    <tr>\n",
       "      <th>1</th>\n",
       "      <td>608</td>\n",
       "      <td>41</td>\n",
       "      <td>1</td>\n",
       "      <td>83807.86</td>\n",
       "      <td>1</td>\n",
       "      <td>0</td>\n",
       "      <td>1</td>\n",
       "      <td>112542.58</td>\n",
       "      <td>0</td>\n",
       "      <td>0</td>\n",
       "      <td>0</td>\n",
       "      <td>1</td>\n",
       "      <td>1</td>\n",
       "      <td>0</td>\n",
       "    </tr>\n",
       "    <tr>\n",
       "      <th>2</th>\n",
       "      <td>502</td>\n",
       "      <td>42</td>\n",
       "      <td>8</td>\n",
       "      <td>159660.80</td>\n",
       "      <td>3</td>\n",
       "      <td>1</td>\n",
       "      <td>0</td>\n",
       "      <td>113931.57</td>\n",
       "      <td>1</td>\n",
       "      <td>1</td>\n",
       "      <td>0</td>\n",
       "      <td>0</td>\n",
       "      <td>1</td>\n",
       "      <td>0</td>\n",
       "    </tr>\n",
       "    <tr>\n",
       "      <th>3</th>\n",
       "      <td>699</td>\n",
       "      <td>39</td>\n",
       "      <td>1</td>\n",
       "      <td>0.00</td>\n",
       "      <td>2</td>\n",
       "      <td>0</td>\n",
       "      <td>0</td>\n",
       "      <td>93826.63</td>\n",
       "      <td>0</td>\n",
       "      <td>1</td>\n",
       "      <td>0</td>\n",
       "      <td>0</td>\n",
       "      <td>1</td>\n",
       "      <td>0</td>\n",
       "    </tr>\n",
       "    <tr>\n",
       "      <th>4</th>\n",
       "      <td>850</td>\n",
       "      <td>43</td>\n",
       "      <td>2</td>\n",
       "      <td>125510.82</td>\n",
       "      <td>1</td>\n",
       "      <td>1</td>\n",
       "      <td>1</td>\n",
       "      <td>79084.10</td>\n",
       "      <td>0</td>\n",
       "      <td>0</td>\n",
       "      <td>0</td>\n",
       "      <td>1</td>\n",
       "      <td>1</td>\n",
       "      <td>0</td>\n",
       "    </tr>\n",
       "  </tbody>\n",
       "</table>\n",
       "</div>"
      ],
      "text/plain": [
       "   credit_score  age  tenure    balance  products_number  credit_card  \\\n",
       "0           619   42       2       0.00                1            1   \n",
       "1           608   41       1   83807.86                1            0   \n",
       "2           502   42       8  159660.80                3            1   \n",
       "3           699   39       1       0.00                2            0   \n",
       "4           850   43       2  125510.82                1            1   \n",
       "\n",
       "   active_member  estimated_salary  churn  country_France  country_Germany  \\\n",
       "0              1         101348.88      1               1                0   \n",
       "1              1         112542.58      0               0                0   \n",
       "2              0         113931.57      1               1                0   \n",
       "3              0          93826.63      0               1                0   \n",
       "4              1          79084.10      0               0                0   \n",
       "\n",
       "   country_Spain  gender_Female  gender_Male  \n",
       "0              0              1            0  \n",
       "1              1              1            0  \n",
       "2              0              1            0  \n",
       "3              0              1            0  \n",
       "4              1              1            0  "
      ]
     },
     "execution_count": 6,
     "metadata": {},
     "output_type": "execute_result"
    }
   ],
   "source": [
    "dataset = pd.get_dummies(dataset)\n",
    "dataset.head()"
   ]
  },
  {
   "cell_type": "code",
   "execution_count": 7,
   "id": "33e85edd",
   "metadata": {},
   "outputs": [
    {
     "name": "stdout",
     "output_type": "stream",
     "text": [
      "number of datapoints : 10000\n",
      "number of features : 14\n"
     ]
    }
   ],
   "source": [
    "print(\"number of datapoints : {}\\nnumber of features : {}\".format(dataset.shape[0],dataset.shape[1]))"
   ]
  },
  {
   "attachments": {},
   "cell_type": "markdown",
   "id": "19a9c588",
   "metadata": {},
   "source": [
    "### turning dataframe into suitable array forms"
   ]
  },
  {
   "cell_type": "code",
   "execution_count": 8,
   "id": "21b15771",
   "metadata": {},
   "outputs": [
    {
     "name": "stdout",
     "output_type": "stream",
     "text": [
      "[1 0 1 ... 1 1 0]\n",
      "['credit_score' 'age' 'tenure' 'balance' 'products_number' 'credit_card'\n",
      " 'active_member' 'estimated_salary' 'country_France' 'country_Germany'\n",
      " 'country_Spain' 'gender_Female' 'gender_Male']\n",
      "[[619.  42.   2. ...   0.   1.   0.]\n",
      " [608.  41.   1. ...   1.   1.   0.]\n",
      " [502.  42.   8. ...   0.   1.   0.]\n",
      " ...\n",
      " [709.  36.   7. ...   0.   1.   0.]\n",
      " [772.  42.   3. ...   0.   0.   1.]\n",
      " [792.  28.   4. ...   0.   1.   0.]]\n"
     ]
    }
   ],
   "source": [
    "labels = dataset.loc[:,\"churn\"].to_numpy()\n",
    "dataset = dataset.drop(columns =\"churn\")\n",
    "fetureNames = dataset.columns.to_numpy()\n",
    "data = dataset.to_numpy()\n",
    "\n",
    "print(labels)\n",
    "print(fetureNames)\n",
    "print(data)"
   ]
  },
  {
   "attachments": {},
   "cell_type": "markdown",
   "id": "1f1828b7",
   "metadata": {},
   "source": [
    "### checking label counts"
   ]
  },
  {
   "cell_type": "code",
   "execution_count": 9,
   "id": "4802d0f5",
   "metadata": {},
   "outputs": [
    {
     "name": "stdout",
     "output_type": "stream",
     "text": [
      "[7963 2037]\n"
     ]
    },
    {
     "data": {
      "image/png": "[encoded data removed]",
      "text/plain": [
       "<Figure size 200x200 with 1 Axes>"
      ]
     },
     "metadata": {},
     "output_type": "display_data"
    }
   ],
   "source": [
    "import matplotlib.pyplot as plt\n",
    "\n",
    "print(np.bincount(labels))\n",
    "plt.figure(figsize=(2,2))\n",
    "plt.hist(labels,2,edgecolor = \"black\")\n",
    "plt.show()"
   ]
  },
  {
   "attachments": {},
   "cell_type": "markdown",
   "id": "02c46495",
   "metadata": {},
   "source": [
    "**data is imbalanced** ( i will manage it later )"
   ]
  },
  {
   "attachments": {},
   "cell_type": "markdown",
   "id": "23b3a291",
   "metadata": {},
   "source": [
    "### trying a simple model ( logistic regression )"
   ]
  },
  {
   "cell_type": "code",
   "execution_count": 10,
   "id": "a1f6ad0f",
   "metadata": {},
   "outputs": [
    {
     "name": "stdout",
     "output_type": "stream",
     "text": [
      "pure logisticRegression test score : 78.76\n",
      "pure logisticRegression train score : 79.09\n"
     ]
    }
   ],
   "source": [
    "from sklearn.linear_model import LogisticRegression\n",
    "from sklearn.model_selection import train_test_split\n",
    "\n",
    "X_train, X_test, Y_train, Y_test = train_test_split(data,labels,random_state=0)\n",
    "\n",
    "logreg = LogisticRegression()\n",
    "logreg.fit(X_train,Y_train)\n",
    "logreg_pred = logreg.predict(X_test)\n",
    "testScore = logreg.score(X_test,Y_test)\n",
    "trainScore = logreg.score(X_train,Y_train)\n",
    "print(\"pure logisticRegression test score : {:.2f}\".format(testScore*100))\n",
    "print(\"pure logisticRegression train score : {:.2f}\".format(trainScore*100))"
   ]
  },
  {
   "attachments": {},
   "cell_type": "markdown",
   "id": "ed027008",
   "metadata": {},
   "source": [
    "**clearly underfitting (same test and train score)**<br>\n",
    "i will tune hyperparameters later "
   ]
  },
  {
   "attachments": {},
   "cell_type": "markdown",
   "id": "6393878c",
   "metadata": {},
   "source": [
    "### trying a more complicated model (random forest)"
   ]
  },
  {
   "cell_type": "code",
   "execution_count": 11,
   "id": "52cfc845",
   "metadata": {},
   "outputs": [
    {
     "name": "stdout",
     "output_type": "stream",
     "text": [
      "pure random forest score : 87.00\n"
     ]
    }
   ],
   "source": [
    "from sklearn.ensemble import RandomForestClassifier\n",
    "\n",
    "rForest = RandomForestClassifier()\n",
    "rForest.fit(X_train,Y_train)\n",
    "rForest_pred = rForest.predict(X_test)\n",
    "score = rForest.score(X_test,Y_test)\n",
    "print(\"pure random forest score : {:.2f}\".format(score*100))"
   ]
  },
  {
   "attachments": {},
   "cell_type": "markdown",
   "id": "05eadf9f",
   "metadata": {},
   "source": [
    "### checking confusion matrix \n",
    "data is imbalanced so it seems that we are being optimistic in log reg"
   ]
  },
  {
   "cell_type": "code",
   "execution_count": 12,
   "id": "e4304eb0",
   "metadata": {
    "scrolled": true
   },
   "outputs": [
    {
     "name": "stdout",
     "output_type": "stream",
     "text": [
      "[[1940   51]\n",
      " [ 480   29]]\n",
      "\n",
      "f1 score of the log reg : 9.85\n"
     ]
    }
   ],
   "source": [
    "from sklearn.metrics import confusion_matrix,f1_score\n",
    "\n",
    "matrix = confusion_matrix(Y_test,logreg_pred)\n",
    "print(matrix)\n",
    "print(\"\\nf1 score of the log reg : {:.2f}\".format(f1_score(Y_test,logreg_pred)*100))"
   ]
  },
  {
   "attachments": {},
   "cell_type": "markdown",
   "id": "d36cf1e6",
   "metadata": {},
   "source": [
    "too many FP and FN , very poor f1 score"
   ]
  },
  {
   "attachments": {},
   "cell_type": "markdown",
   "id": "ea55bc0b",
   "metadata": {},
   "source": [
    "### more analysing about being imbalanced"
   ]
  },
  {
   "cell_type": "code",
   "execution_count": 13,
   "id": "1a044114",
   "metadata": {},
   "outputs": [
    {
     "name": "stdout",
     "output_type": "stream",
     "text": [
      "logestic regression\n",
      "               precision    recall  f1-score   support\n",
      "\n",
      "   not churn       0.80      0.97      0.88      1991\n",
      "       churn       0.36      0.06      0.10       509\n",
      "\n",
      "    accuracy                           0.79      2500\n",
      "   macro avg       0.58      0.52      0.49      2500\n",
      "weighted avg       0.71      0.79      0.72      2500\n",
      "\n",
      "random forest\n",
      "               precision    recall  f1-score   support\n",
      "\n",
      "   not churn       0.88      0.96      0.92      1991\n",
      "       churn       0.78      0.51      0.61       509\n",
      "\n",
      "    accuracy                           0.87      2500\n",
      "   macro avg       0.83      0.73      0.77      2500\n",
      "weighted avg       0.86      0.87      0.86      2500\n",
      "\n"
     ]
    }
   ],
   "source": [
    "from sklearn.metrics import classification_report\n",
    "\n",
    "print(\"logestic regression\\n\",classification_report(Y_test,logreg_pred,target_names=[\"not churn\",\"churn\"]))\n",
    "print(\"random forest\\n\",classification_report(Y_test,rForest_pred,target_names=[\"not churn\",\"churn\"]))\n"
   ]
  },
  {
   "attachments": {},
   "cell_type": "markdown",
   "id": "6fa13b6a",
   "metadata": {},
   "source": [
    "predicting false not churn will have **very high impact** (some one hase been churned and we did not found out !)<br>\n",
    "predicting false churn has lower impact. ( someone has not churned but we falsly predicted he that he does , it does not have very high business impact , just some adittional researches about customer will be done )<br>\n",
    "so reducing false negatives is important for us , it means that **recall** is more important for us<br>\n",
    "<br>\n",
    "RECALL = TP/(TP+FN)\n",
    "<br><br>\n",
    "so i try to increase recall, recall is 6 percent as above report"
   ]
  },
  {
   "attachments": {},
   "cell_type": "markdown",
   "id": "1a862044",
   "metadata": {},
   "source": [
    "### precission recall curve"
   ]
  },
  {
   "cell_type": "code",
   "execution_count": 14,
   "id": "7321c7e7",
   "metadata": {
    "scrolled": false
   },
   "outputs": [
    {
     "name": "stdout",
     "output_type": "stream",
     "text": [
      "log red closest to mid threshold : -0.002867356919858705\n",
      "random forest closest to mid threshold : 0.5\n"
     ]
    },
    {
     "data": {
      "image/png": "[encoded data removed]",
      "text/plain": [
       "<Figure size 640x480 with 1 Axes>"
      ]
     },
     "metadata": {},
     "output_type": "display_data"
    },
    {
     "name": "stdout",
     "output_type": "stream",
     "text": [
      "in log reg for mid threshold fpr is 2.56 and recall is 5.89\n",
      "in random forest for mid threshold fpr is 3.97 and recall is 51.28\n"
     ]
    }
   ],
   "source": [
    "from sklearn.metrics import roc_curve\n",
    "\n",
    "log_decesionFunc = logreg.decision_function(X_test)\n",
    "forest_predictProba = rForest.predict_proba(X_test)[:,1]\n",
    "\n",
    "fpr_log, recall_log, threshold_log = roc_curve(Y_test,log_decesionFunc)\n",
    "fpr_rf, recall_rf, threshold_rf = roc_curve(Y_test,forest_predictProba)\n",
    "\n",
    "midThres_log = np.argmin(np.abs(threshold_log)) # abs is for ignoring negative values / zero is middle in decision func\n",
    "midThres_rf = np.argmin(np.abs(threshold_rf-0.5)) # abs is for ignoring negative values / 0.5 is middle in pred proba\n",
    "\n",
    "print(\"log red closest to mid threshold :\",threshold_log[midThres_log])\n",
    "print(\"random forest closest to mid threshold :\",threshold_rf[midThres_rf])\n",
    "\n",
    "plt.plot(fpr_log,recall_log,label = \"log reg\")\n",
    "plt.plot(fpr_log[midThres_log],recall_log[midThres_log],marker=\"X\",markersize=10,label = \"log midThres\")\n",
    "plt.plot(fpr_rf,recall_rf,label = \"random forest\")\n",
    "plt.plot(fpr_rf[midThres_rf],recall_rf[midThres_rf],marker=\"X\",markersize=10,label = \"rf midThres\")\n",
    "\n",
    "plt.title(\"ROC curve for random forest and logestic regression\")\n",
    "plt.xlabel(\"FPR\")\n",
    "plt.ylabel(\"Recall\")\n",
    "plt.legend()\n",
    "plt.show()\n",
    "print(\"in log reg for mid threshold fpr is {:.2f} and recall is {:.2f}\"\n",
    "      .format(fpr_log[midThres_log]*100,recall_log[midThres_log]*100))\n",
    "print(\"in random forest for mid threshold fpr is {:.2f} and recall is {:.2f}\"\n",
    "      .format(fpr_rf[midThres_rf]*100,recall_rf[midThres_rf]*100))"
   ]
  },
  {
   "attachments": {},
   "cell_type": "markdown",
   "id": "d3933c13",
   "metadata": {},
   "source": [
    "log reg is acting very bad , rand forest is acting better and is also not very slow like svm so i igonre log reg\n",
    "<br>maybe with some feature engineering it act better but time complexity does not differ"
   ]
  },
  {
   "attachments": {},
   "cell_type": "markdown",
   "id": "8da14fc6",
   "metadata": {},
   "source": [
    "checking auc too :"
   ]
  },
  {
   "cell_type": "code",
   "execution_count": 15,
   "id": "ade269af",
   "metadata": {},
   "outputs": [
    {
     "name": "stdout",
     "output_type": "stream",
     "text": [
      "auc score for log reg : 66.56683957968028\n",
      "auc score for rf : 85.94011953594712\n"
     ]
    }
   ],
   "source": [
    "from sklearn.metrics import roc_auc_score\n",
    "\n",
    "print(\"auc score for log reg :\",roc_auc_score(Y_test,log_decesionFunc)*100)\n",
    "print(\"auc score for rf :\",roc_auc_score(Y_test,forest_predictProba)*100)"
   ]
  },
  {
   "attachments": {},
   "cell_type": "markdown",
   "id": "544ec597",
   "metadata": {},
   "source": [
    "from roc curve we understand that with a **lower** threshold we will get a better recall and a balanced FPR<br>\n",
    "so i extend random forest estimator so it can predict with respect to threshold<br>"
   ]
  },
  {
   "attachments": {},
   "cell_type": "markdown",
   "id": "6e9b8f2a",
   "metadata": {},
   "source": [
    "### customized random forest"
   ]
  },
  {
   "cell_type": "code",
   "execution_count": 16,
   "id": "e3ae325d",
   "metadata": {},
   "outputs": [],
   "source": [
    "from sklearn.base import BaseEstimator,ClassifierMixin\n",
    "from sklearn.metrics import accuracy_score\n",
    "\n",
    "class CRF(BaseEstimator,ClassifierMixin):\n",
    "    \n",
    "    def __init__(self,thres=0.5,max_features=\"sqrt\",max_depth=None,n_estimator=100): # adding threshold as a hyper parameter\n",
    "        self.threshold = thres\n",
    "        self.max_features = max_features\n",
    "        self.max_depth = max_depth\n",
    "        self.n_estimator = n_estimator\n",
    "        self.subEstimator = RandomForestClassifier(max_depth=max_depth,max_features=max_features,n_estimators=n_estimator)\n",
    "\n",
    "\n",
    "    def fit(self,X,y):\n",
    "        return self.subEstimator.fit(X,y)\n",
    "        \n",
    "    def predict(self,X): # with respect to pred proba\n",
    "        predProba = self.subEstimator.predict_proba(X)[:,1]\n",
    "        pred = predProba >= self.threshold \n",
    "        pred = pred.astype(int)\n",
    "        return pred\n",
    "\n",
    "    def score(self,X,y):\n",
    "        return accuracy_score(self.predict(X),y) \n",
    "#         return f1_score(y,self.predict(X))\n",
    "\n",
    "    def get_params(self, deep: bool = True) -> dict:\n",
    "        params = {\"thres\":self.threshold,\n",
    "                  \"max_depth\":self.max_depth,\n",
    "                  \"max_features\":self.max_features,\n",
    "                  \"n_estimator\":self.n_estimator}\n",
    "        return params\n",
    "    "
   ]
  },
  {
   "cell_type": "code",
   "execution_count": 24,
   "id": "bbb33efe",
   "metadata": {},
   "outputs": [
    {
     "name": "stdout",
     "output_type": "stream",
     "text": [
      "score for default random forest : 87.0\n",
      "score for custom random forest with thres 0.4 : 85.48\n",
      "f1 score for default random forest : 61.35552913198574\n",
      "f1 score for custom random forest with thres 0.4 : 62.69270298047277\n"
     ]
    }
   ],
   "source": [
    "# testing\n",
    "crf = CRF(thres = 0.4)\n",
    "crf.fit(X_train,Y_train)\n",
    "# results should be near each other\n",
    "print(\"score for default random forest :\",rForest.score(X_test,Y_test)*100)\n",
    "print(\"score for custom random forest with thres 0.4 :\",crf.score(X_test,Y_test)*100)\n",
    "print(\"f1 score for default random forest :\",f1_score(Y_test,rForest_pred)*100)\n",
    "print(\"f1 score for custom random forest with thres 0.4 :\",f1_score(Y_test,crf.predict(X_test))*100)\n"
   ]
  },
  {
   "attachments": {},
   "cell_type": "markdown",
   "id": "7c98309c",
   "metadata": {},
   "source": [
    "we can see the increase in f1score"
   ]
  },
  {
   "attachments": {},
   "cell_type": "markdown",
   "id": "a783f5d4",
   "metadata": {},
   "source": [
    "## visualizing the ROC curve again for finding a good threshold range \n",
    "less than 0.2 is not very good means that we are accepting low probs to churn\n",
    "it will decrease score , we will have a trade off between these two later (recall and f1score)"
   ]
  },
  {
   "cell_type": "code",
   "execution_count": 26,
   "id": "5e1131c8",
   "metadata": {},
   "outputs": [
    {
     "data": {
      "image/png": "[encoded data removed]",
      "text/plain": [
       "<Figure size 640x480 with 1 Axes>"
      ]
     },
     "metadata": {},
     "output_type": "display_data"
    }
   ],
   "source": [
    "plt.plot(fpr_rf,recall_rf,label = \"random forest\")\n",
    "thresRange = np.linspace(0.2,0.5,10)\n",
    "for threshold in thresRange:\n",
    "    Thres = np.argmin(np.abs(threshold_rf-threshold))\n",
    "    plt.plot(fpr_rf[Thres],recall_rf[Thres],marker=\"X\",markersize=10,label = \"threshold \"+str(threshold))\n",
    "\n",
    "plt.xlabel(\"FPR\")\n",
    "plt.ylabel(\"Recall\")\n",
    "plt.legend()\n",
    "plt.show()"
   ]
  },
  {
   "attachments": {},
   "cell_type": "markdown",
   "id": "3f428159",
   "metadata": {},
   "source": [
    "## finding best threshold"
   ]
  },
  {
   "cell_type": "code",
   "execution_count": 27,
   "id": "889cebbd",
   "metadata": {},
   "outputs": [
    {
     "data": {
      "image/png": "[encoded data removed]",
      "text/plain": [
       "<Figure size 640x480 with 1 Axes>"
      ]
     },
     "metadata": {},
     "output_type": "display_data"
    }
   ],
   "source": [
    "from sklearn.metrics import recall_score\n",
    "\n",
    "X_train2,X_eval,y_train2,y_eval = train_test_split(X_train,Y_train,random_state=0)\n",
    "\n",
    "recalls = []\n",
    "f1scores = []\n",
    "for thres in thresRange: # 10 models will be trained\n",
    "    temp_crf = CRF(thres)\n",
    "    temp_crf.fit(X_train2,y_train2)\n",
    "    recalls.append(recall_score(y_eval,temp_crf.predict(X_eval)))\n",
    "    f1scores.append(f1_score(y_eval,temp_crf.predict(X_eval)))\n",
    "\n",
    "plt.plot(thresRange,recalls,marker=\"o\",label=\"recall\")\n",
    "plt.plot(thresRange,f1scores,marker=\"o\",label=\"f1 score\")\n",
    "\n",
    "plt.legend()\n",
    "plt.xlabel(\"threshold\")\n",
    "plt.show()"
   ]
  },
  {
   "attachments": {},
   "cell_type": "markdown",
   "id": "a41d391d",
   "metadata": {},
   "source": [
    "we can see that by increasing threshold recall will be lowered and from from 0.35 f1 score will be lowered from left and right .<br>\n",
    "we can also see that recall is decreasing from left to right,from 0.3 to the left recall increase very fast and f1score decreases slow from 0.24 to 0.35<br>\n",
    "so it seems that **0.25** is a perfect threshold , lets try that\n"
   ]
  },
  {
   "cell_type": "code",
   "execution_count": 28,
   "id": "22f17dec",
   "metadata": {},
   "outputs": [
    {
     "name": "stdout",
     "output_type": "stream",
     "text": [
      "              precision    recall  f1-score   support\n",
      "\n",
      "           0       0.93      0.81      0.86      1991\n",
      "           1       0.50      0.76      0.60       509\n",
      "\n",
      "    accuracy                           0.80      2500\n",
      "   macro avg       0.72      0.78      0.73      2500\n",
      "weighted avg       0.84      0.80      0.81      2500\n",
      "\n"
     ]
    }
   ],
   "source": [
    "crf = CRF(0.25)\n",
    "crf.fit(X_train,Y_train)\n",
    "print(classification_report(Y_test,crf.predict(X_test)))"
   ]
  },
  {
   "attachments": {},
   "cell_type": "markdown",
   "id": "f30e9906",
   "metadata": {},
   "source": [
    "result changed as below :<br>\n",
    "precision : 0.77 -> 0.50 lowered around 25 percent<br>\n",
    "recall : 0.51 -> 0.75 improved around 25 percent<br>\n",
    "f1-score : 0.62 -> 0.60 not a huge change !<br>\n",
    "<br><br>\n",
    "**so we successfully increased recall without losing f1-score**<br>\n",
    "now we try to improve overall model (whole f1 score)"
   ]
  },
  {
   "attachments": {},
   "cell_type": "markdown",
   "id": "c7df4372",
   "metadata": {},
   "source": [
    "### tunning random forest\n",
    "rf does not need transformation so i just use a simple grid search to find best "
   ]
  },
  {
   "cell_type": "code",
   "execution_count": 29,
   "id": "c8e3c195",
   "metadata": {},
   "outputs": [],
   "source": [
    "def plotGridResult(grid,paramGrid):\n",
    "    keys = list(paramGrid.keys())\n",
    "    x=len(paramGrid[keys[0]])\n",
    "    y=len(paramGrid[keys[1]])\n",
    "    params = np.array(grid.cv_results_[\"params\"]).reshape(x,y)\n",
    "    mean_scores = grid.cv_results_[\"mean_test_score\"].reshape(x,y)\n",
    "\n",
    "    plt.matshow(mean_scores)\n",
    "    for (i, j), z in np.ndenumerate(mean_scores):\n",
    "        plt.text(j, i, 's:{:0.3f}\\na:{}\\nb:{}'.format(z,params[i][j][keys[0]],params[i][j][keys[1]]),\n",
    "                ha='center', va='center',size=7,\n",
    "                 bbox=dict(boxstyle='round', facecolor='white', edgecolor='0.3'))\n",
    "    plt.colorbar()\n",
    "    plt.title(\"s is score\\na is {}\\nb is {}\".format(keys[0],keys[1]))\n",
    "    plt.show()"
   ]
  },
  {
   "cell_type": "code",
   "execution_count": 30,
   "id": "ca07850e",
   "metadata": {},
   "outputs": [
    {
     "name": "stdout",
     "output_type": "stream",
     "text": [
      "train score : 0.9868\n",
      "test score 0.8012\n"
     ]
    },
    {
     "data": {
      "image/png": "[encoded data removed]",
      "text/plain": [
       "<Figure size 400x500 with 2 Axes>"
      ]
     },
     "metadata": {},
     "output_type": "display_data"
    }
   ],
   "source": [
    "from sklearn.model_selection import GridSearchCV\n",
    "\n",
    "paramGrid = {\"max_features\":[2,3,4,5,6],\n",
    "             \"n_estimator\":[50,100,150,200]}\n",
    "\n",
    "grid = GridSearchCV(CRF(thres=0.25),paramGrid,cv=3)\n",
    "grid.fit(X_train,Y_train)\n",
    "print(\"train score :\",grid.score(X_train,Y_train))\n",
    "print(\"test score\",grid.score(X_test,Y_test))\n",
    "plotGridResult(grid,paramGrid)"
   ]
  },
  {
   "attachments": {},
   "cell_type": "markdown",
   "id": "d8d46342",
   "metadata": {},
   "source": [
    "we are overfitting , let try max_depth that reduce overfitting and see what will happen"
   ]
  },
  {
   "cell_type": "code",
   "execution_count": 31,
   "id": "75365753",
   "metadata": {},
   "outputs": [
    {
     "name": "stdout",
     "output_type": "stream",
     "text": [
      "train score : 0.8250666666666666\n",
      "test score 0.8136\n",
      "best params : {'max_depth': 5, 'max_features': 4, 'n_estimator': 100}\n"
     ]
    }
   ],
   "source": [
    "paramGrid = {\"max_features\":[4,5,6],\"max_depth\":[4,5,6],\n",
    "             \"n_estimator\":[100,150,200]}\n",
    "\n",
    "grid = GridSearchCV(CRF(thres=0.25),paramGrid,cv=3)\n",
    "grid.fit(X_train,Y_train)\n",
    "print(\"train score :\",grid.score(X_train,Y_train))\n",
    "print(\"test score\",grid.score(X_test,Y_test))\n",
    "print(\"best params :\",grid.best_params_)\n"
   ]
  },
  {
   "attachments": {},
   "cell_type": "markdown",
   "id": "d5cf5667",
   "metadata": {},
   "source": [
    "now we are not overfitting"
   ]
  },
  {
   "cell_type": "code",
   "execution_count": null,
   "id": "6037c438",
   "metadata": {},
   "outputs": [],
   "source": []
  }
 ],
 "metadata": {
  "kernelspec": {
   "display_name": "Python 3 (ipykernel)",
   "language": "python",
   "name": "python3"
  },
  "language_info": {
   "codemirror_mode": {
    "name": "ipython",
    "version": 3
   },
   "file_extension": ".py",
   "mimetype": "text/x-python",
   "name": "python",
   "nbconvert_exporter": "python",
   "pygments_lexer": "ipython3",
   "version": "3.9.16"
  }
 },
 "nbformat": 4,
 "nbformat_minor": 5
}
